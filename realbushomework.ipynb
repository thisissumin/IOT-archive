{
  "nbformat": 4,
  "nbformat_minor": 0,
  "metadata": {
    "colab": {
      "provenance": [],
      "authorship_tag": "ABX9TyMkZhnLjCTReaGFaIFBWke1",
      "include_colab_link": true
    },
    "kernelspec": {
      "name": "python3",
      "display_name": "Python 3"
    },
    "language_info": {
      "name": "python"
    }
  },
  "cells": [
    {
      "cell_type": "markdown",
      "metadata": {
        "id": "view-in-github",
        "colab_type": "text"
      },
      "source": [
        "<a href=\"https://colab.research.google.com/github/thisissumin/IOT-archive/blob/main/realbushomework.ipynb\" target=\"_parent\"><img src=\"https://colab.research.google.com/assets/colab-badge.svg\" alt=\"Open In Colab\"/></a>"
      ]
    },
    {
      "cell_type": "code",
      "execution_count": 1,
      "metadata": {
        "colab": {
          "base_uri": "https://localhost:8080/"
        },
        "id": "MYmSbigW2_oH",
        "outputId": "70f69115-c2de-47f1-f025-21f838ff4f2b"
      },
      "outputs": [
        {
          "output_type": "stream",
          "name": "stdout",
          "text": [
            "<?xml version=\"1.0\" encoding=\"UTF-8\" standalone=\"yes\"?><response><comMsgHeader/><msgHeader><queryTime>2024-03-14 21:10:14.453</queryTime><resultCode>0</resultCode><resultMessage>정상적으로 처리되었습니다.</resultMessage></msgHeader><msgBody><busLocationList><endBus>0</endBus><lowPlate>0</lowPlate><plateNo>경기70아6926</plateNo><plateType>3</plateType><remainSeatCnt>44</remainSeatCnt><routeId>204000046</routeId><stationId>206000558</stationId><stationSeq>4</stationSeq></busLocationList><busLocationList><endBus>0</endBus><lowPlate>0</lowPlate><plateNo>경기77바1097</plateNo><plateType>3</plateType><remainSeatCnt>43</remainSeatCnt><routeId>204000046</routeId><stationId>101000292</stationId><stationSeq>23</stationSeq></busLocationList><busLocationList><endBus>0</endBus><lowPlate>0</lowPlate><plateNo>경기70아6916</plateNo><plateType>3</plateType><remainSeatCnt>22</remainSeatCnt><routeId>204000046</routeId><stationId>277103389</stationId><stationSeq>38</stationSeq></busLocationList><busLocationList><endBus>0</endBus><lowPlate>0</lowPlate><plateNo>경기77바1198</plateNo><plateType>3</plateType><remainSeatCnt>25</remainSeatCnt><routeId>204000046</routeId><stationId>277104181</stationId><stationSeq>33</stationSeq></busLocationList><busLocationList><endBus>0</endBus><lowPlate>0</lowPlate><plateNo>경기70아6469</plateNo><plateType>3</plateType><remainSeatCnt>44</remainSeatCnt><routeId>204000046</routeId><stationId>101000005</stationId><stationSeq>27</stationSeq></busLocationList><busLocationList><endBus>0</endBus><lowPlate>0</lowPlate><plateNo>경기70아6915</plateNo><plateType>3</plateType><remainSeatCnt>42</remainSeatCnt><routeId>204000046</routeId><stationId>277104177</stationId><stationSeq>15</stationSeq></busLocationList><busLocationList><endBus>0</endBus><lowPlate>0</lowPlate><plateNo>경기70아6917</plateNo><plateType>3</plateType><remainSeatCnt>39</remainSeatCnt><routeId>204000046</routeId><stationId>206000014</stationId><stationSeq>50</stationSeq></busLocationList><busLocationList><endBus>0</endBus><lowPlate>0</lowPlate><plateNo>경기77바8411</plateNo><plateType>3</plateType><remainSeatCnt>35</remainSeatCnt><routeId>204000046</routeId><stationId>206000554</stationId><stationSeq>46</stationSeq></busLocationList></msgBody></response>\n"
          ]
        }
      ],
      "source": [
        "import requests\n",
        "url='http://openapi.gbis.go.kr/ws/rest/buslocationservice?serviceKey=1234567890&routeId=204000046'\n",
        "r = requests.get(url)\n",
        "print(r.text)"
      ]
    },
    {
      "cell_type": "code",
      "source": [
        "from bs4 import BeautifulSoup\n",
        "soup = BeautifulSoup(r.text, features=\"xml\")"
      ],
      "metadata": {
        "id": "_Jee1ufH3o2O"
      },
      "execution_count": 8,
      "outputs": []
    },
    {
      "cell_type": "code",
      "source": [
        "soup.find_all('stationId')"
      ],
      "metadata": {
        "colab": {
          "base_uri": "https://localhost:8080/"
        },
        "id": "vDrzKUsB4LHb",
        "outputId": "8096cba6-185a-464d-ac3f-5c19d7a621ca"
      },
      "execution_count": 9,
      "outputs": [
        {
          "output_type": "execute_result",
          "data": {
            "text/plain": [
              "[<stationId>206000558</stationId>,\n",
              " <stationId>101000292</stationId>,\n",
              " <stationId>277103389</stationId>,\n",
              " <stationId>277104181</stationId>,\n",
              " <stationId>101000005</stationId>,\n",
              " <stationId>277104177</stationId>,\n",
              " <stationId>206000014</stationId>,\n",
              " <stationId>206000554</stationId>]"
            ]
          },
          "metadata": {},
          "execution_count": 9
        }
      ]
    },
    {
      "cell_type": "code",
      "source": [
        "print('학번=', 2495027, '이름=', '제수민')"
      ],
      "metadata": {
        "colab": {
          "base_uri": "https://localhost:8080/"
        },
        "id": "YuU9Pyzo5bm0",
        "outputId": "1afddeab-37b9-4a91-dfb9-5eb3bad7be48"
      },
      "execution_count": 10,
      "outputs": [
        {
          "output_type": "stream",
          "name": "stdout",
          "text": [
            "학번= 2495027 이름= 제수민\n"
          ]
        }
      ]
    }
  ]
}
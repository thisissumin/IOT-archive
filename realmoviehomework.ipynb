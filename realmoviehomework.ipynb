{
  "nbformat": 4,
  "nbformat_minor": 0,
  "metadata": {
    "colab": {
      "provenance": [],
      "authorship_tag": "ABX9TyPudqpbURnYiF75HD+m4HPg",
      "include_colab_link": true
    },
    "kernelspec": {
      "name": "python3",
      "display_name": "Python 3"
    },
    "language_info": {
      "name": "python"
    }
  },
  "cells": [
    {
      "cell_type": "markdown",
      "metadata": {
        "id": "view-in-github",
        "colab_type": "text"
      },
      "source": [
        "<a href=\"https://colab.research.google.com/github/thisissumin/IOT-archive/blob/main/realmoviehomework.ipynb\" target=\"_parent\"><img src=\"https://colab.research.google.com/assets/colab-badge.svg\" alt=\"Open In Colab\"/></a>"
      ]
    },
    {
      "cell_type": "code",
      "execution_count": null,
      "metadata": {
        "id": "MswDfVQB_fGw"
      },
      "outputs": [],
      "source": [
        "import requests\n",
        "from bs4 import BeautifulSoup\n",
        "\n",
        "\n",
        "r = requests.get('http://www.kobis.or.kr/kobisopenapi/webservice/rest/boxoffice/searchDailyBoxOfficeList.xml?key=4d52317464d5dfdca923f7d2c94793d2&targetDt=20240313')\n",
        "print(r.text)"
      ]
    },
    {
      "cell_type": "code",
      "source": [
        "soup = BeautifulSoup(r.text, features=\"xml\")"
      ],
      "metadata": {
        "id": "sUsidKl4AG5z"
      },
      "execution_count": 6,
      "outputs": []
    },
    {
      "cell_type": "code",
      "source": [
        "soup.find_all('movieNm')"
      ],
      "metadata": {
        "colab": {
          "base_uri": "https://localhost:8080/"
        },
        "id": "NCpXbbWKASoc",
        "outputId": "d313beb2-0c29-47f3-bd14-c22f806b5a21"
      },
      "execution_count": 7,
      "outputs": [
        {
          "output_type": "execute_result",
          "data": {
            "text/plain": [
              "[<movieNm>파묘</movieNm>,\n",
              " <movieNm>듄: 파트2</movieNm>,\n",
              " <movieNm>밥 말리: 원 러브</movieNm>,\n",
              " <movieNm>메이 디셈버</movieNm>,\n",
              " <movieNm>랜드 오브 배드</movieNm>,\n",
              " <movieNm>가여운 것들</movieNm>,\n",
              " <movieNm>패스트 라이브즈</movieNm>,\n",
              " <movieNm>마담 웹</movieNm>,\n",
              " <movieNm>태양은 없다</movieNm>,\n",
              " <movieNm>웡카</movieNm>]"
            ]
          },
          "metadata": {},
          "execution_count": 7
        }
      ]
    },
    {
      "cell_type": "code",
      "source": [
        "soup.find_all('audiCnt')"
      ],
      "metadata": {
        "colab": {
          "base_uri": "https://localhost:8080/"
        },
        "id": "aSlwlOy6A5Bv",
        "outputId": "26cc2c6c-2a5b-4020-f56d-c4c9f5978a51"
      },
      "execution_count": 8,
      "outputs": [
        {
          "output_type": "execute_result",
          "data": {
            "text/plain": [
              "[<audiCnt>113410</audiCnt>,\n",
              " <audiCnt>27427</audiCnt>,\n",
              " <audiCnt>9496</audiCnt>,\n",
              " <audiCnt>7904</audiCnt>,\n",
              " <audiCnt>5370</audiCnt>,\n",
              " <audiCnt>4292</audiCnt>,\n",
              " <audiCnt>3603</audiCnt>,\n",
              " <audiCnt>3586</audiCnt>,\n",
              " <audiCnt>2288</audiCnt>,\n",
              " <audiCnt>2253</audiCnt>]"
            ]
          },
          "metadata": {},
          "execution_count": 8
        }
      ]
    }
  ]
}
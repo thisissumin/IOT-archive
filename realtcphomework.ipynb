{
  "nbformat": 4,
  "nbformat_minor": 0,
  "metadata": {
    "colab": {
      "provenance": [],
      "authorship_tag": "ABX9TyOqpgVQZuJY/t3UeV7fFziS",
      "include_colab_link": true
    },
    "kernelspec": {
      "name": "python3",
      "display_name": "Python 3"
    },
    "language_info": {
      "name": "python"
    }
  },
  "cells": [
    {
      "cell_type": "markdown",
      "metadata": {
        "id": "view-in-github",
        "colab_type": "text"
      },
      "source": [
        "<a href=\"https://colab.research.google.com/github/thisissumin/IOT-archive/blob/main/realtcphomework.ipynb\" target=\"_parent\"><img src=\"https://colab.research.google.com/assets/colab-badge.svg\" alt=\"Open In Colab\"/></a>"
      ]
    },
    {
      "cell_type": "code",
      "execution_count": 3,
      "metadata": {
        "id": "uCE3-AB19bhZ"
      },
      "outputs": [],
      "source": [
        "import socket"
      ]
    },
    {
      "cell_type": "code",
      "source": [
        "HOST = \"203.255.161.161\" #google.com\n",
        "PORT = 80"
      ],
      "metadata": {
        "id": "ruk1kxr2--HD"
      },
      "execution_count": 12,
      "outputs": []
    },
    {
      "cell_type": "code",
      "source": [
        "with socket.socket(socket.AF_INET, socket.SOCK_STREAM) as s:\n",
        "    s.connect((HOST, PORT))\n",
        "    s.sendall(b\"GET / HTTP/1.2\\n\\n\")\n",
        "    data = s.recv(1024)\n",
        "\n",
        "print(f\"Received {data.decode('utf-8')}\")"
      ],
      "metadata": {
        "colab": {
          "base_uri": "https://localhost:8080/"
        },
        "id": "Vpw6iOe5EfB6",
        "outputId": "b6d4a61b-80de-45d4-e478-bb1cdd78a455"
      },
      "execution_count": 13,
      "outputs": [
        {
          "output_type": "stream",
          "name": "stdout",
          "text": [
            "Received HTTP/1.1 505 HTTP Version Not Supported\r\n",
            "Date: Sun, 31 Mar 2024 10:58:31 GMT\r\n",
            "Connection: close\r\n",
            "Content-Type: text/html\r\n",
            "Content-Length: 182\r\n",
            "\r\n",
            "<!DOCTYPE HTML PUBLIC \"-//IETF//DTD HTML 2.0//EN\">\n",
            "<HTML><HEAD>\n",
            "<TITLE> 505 HTTP Version Not Supported </TITLE>\n",
            "</HEAD><BODY>\n",
            "<H1>HTTP Version Not Supported</H1>\n",
            "<HR>\n",
            "</BODY></HTML>\n",
            "\n"
          ]
        }
      ]
    },
    {
      "cell_type": "code",
      "source": [
        "!curl ipecho.net/plain"
      ],
      "metadata": {
        "colab": {
          "base_uri": "https://localhost:8080/"
        },
        "id": "QnVKJzabE9-s",
        "outputId": "82935663-7e3e-4b2c-820b-1f39c7add313"
      },
      "execution_count": 14,
      "outputs": [
        {
          "output_type": "stream",
          "name": "stdout",
          "text": [
            "35.185.154.135"
          ]
        }
      ]
    }
  ]
}